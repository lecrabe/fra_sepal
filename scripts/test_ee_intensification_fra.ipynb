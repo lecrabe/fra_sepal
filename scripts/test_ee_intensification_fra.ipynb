{
 "cells": [
  {
   "cell_type": "code",
   "execution_count": 1,
   "metadata": {},
   "outputs": [
    {
     "name": "stdout",
     "output_type": "stream",
     "text": [
      "all good\n"
     ]
    }
   ],
   "source": [
    "import ee, datetime\n",
    "import pandas as pd\n",
    "import matplotlib.dates as mdates\n",
    "from IPython.display import Image\n",
    "from matplotlib import dates\n",
    "from pylab import *\n",
    "\n",
    "ee.Initialize()\n",
    "\n",
    "print('all good')"
   ]
  },
  {
   "cell_type": "code",
   "execution_count": 2,
   "metadata": {},
   "outputs": [],
   "source": [
    "# Get all the tiles footprint\n",
    "world_tiles_cd = ee.FeatureCollection('users/kindgard/RSS2020/worldtilesALL_cd2')\n",
    "\n",
    "# Call country boundaries\n",
    "countries = ee.FeatureCollection('ft:1tdSwUL7MVpOauSgRzqVTOwdfy17KDbw-1d9omPw')"
   ]
  },
  {
   "cell_type": "code",
   "execution_count": 15,
   "metadata": {},
   "outputs": [],
   "source": [
    "country_name = 'Ghana'"
   ]
  },
  {
   "cell_type": "code",
   "execution_count": 18,
   "metadata": {},
   "outputs": [],
   "source": [
    "the_country = countries.filterMetadata('Country', 'equals', country_name)\n",
    "\n",
    "aoi = the_country.geometry().buffer(5000)\n",
    "\n",
    "tiles = world_tiles_cd.filterBounds(aoi)\n",
    "\n",
    "list_tiles = ee.List(tiles.aggregate_array('Source')).getInfo()"
   ]
  },
  {
   "cell_type": "code",
   "execution_count": 19,
   "metadata": {},
   "outputs": [
    {
     "name": "stdout",
     "output_type": "stream",
     "text": [
      "Africa1_15\n"
     ]
    }
   ],
   "source": [
    "for tile in list_tiles:\n",
    "    print(tile)"
   ]
  },
  {
   "cell_type": "code",
   "execution_count": 7,
   "metadata": {},
   "outputs": [],
   "source": [
    "example = ee.FeatureCollection('ft:1dT7YNfFGUUENB3J4fjmFzkg0aZJvIvH53xOscaym')\n",
    "\n",
    "sample_list = ee.List(example.aggregate_array('global_id'))\n",
    "\n",
    "EU10 = ee.FeatureCollection(\"users/ValeriaContessa/dggrid_EU/dggrid_EU_10\")\n",
    "EU11 = ee.FeatureCollection(\"users/ValeriaContessa/dggrid_EU/dggrid_EU_11\")\n",
    "EU9  = ee.FeatureCollection(\"users/ValeriaContessa/dggrid_EU/dggrid_EU_9\")\n",
    "\n",
    "samples = EU9.merge(EU10).merge(EU11).filter(ee.Filter.inList('global_id',sample_list))"
   ]
  },
  {
   "cell_type": "code",
   "execution_count": 8,
   "metadata": {},
   "outputs": [
    {
     "data": {
      "text/plain": [
       "['524643513',\n",
       " '521979855',\n",
       " '520936087',\n",
       " '523967457',\n",
       " '517341235',\n",
       " '523514654',\n",
       " '530758109',\n",
       " '523094795',\n",
       " '521349598',\n",
       " '521926897',\n",
       " '525115900',\n",
       " '521120033',\n",
       " '527786168',\n",
       " '519157894',\n",
       " '405253224',\n",
       " '522451882',\n",
       " '523475705',\n",
       " '519335222',\n",
       " '523180522',\n",
       " '517681632',\n",
       " '521087702',\n",
       " '373800',\n",
       " '528527342',\n",
       " '3588815',\n",
       " '524872647',\n",
       " '520719638',\n",
       " '523764368',\n",
       " '525758398',\n",
       " '522550725',\n",
       " '517707868',\n",
       " '528881849',\n",
       " '524046454',\n",
       " '527084311',\n",
       " '519722978',\n",
       " '523495430',\n",
       " '530259400',\n",
       " '528461739',\n",
       " '518200851',\n",
       " '526375662',\n",
       " '522445342',\n",
       " '526125980',\n",
       " '522064778',\n",
       " '522215710']"
      ]
     },
     "execution_count": 8,
     "metadata": {},
     "output_type": "execute_result"
    }
   ],
   "source": [
    "sample_list.getInfo()"
   ]
  },
  {
   "cell_type": "code",
   "execution_count": 65,
   "metadata": {},
   "outputs": [
    {
     "ename": "SyntaxError",
     "evalue": "invalid syntax (<ipython-input-65-2325fdc4cc45>, line 2)",
     "output_type": "error",
     "traceback": [
      "\u001b[0;36m  File \u001b[0;32m\"<ipython-input-65-2325fdc4cc45>\"\u001b[0;36m, line \u001b[0;32m2\u001b[0m\n\u001b[0;31m    for feature in featureCollection\u001b[0m\n\u001b[0m                                    ^\u001b[0m\n\u001b[0;31mSyntaxError\u001b[0m\u001b[0;31m:\u001b[0m invalid syntax\n"
     ]
    }
   ],
   "source": [
    "def getCentroid(featureCollection):\n",
    "    for feature in featureCollection\n",
    "        centroid = feature.centroid()\n",
    "        square = centroid.buffer(50).bounds().geometry()\n",
    "        return ee.Feature(square,{global_id: feature.get('global_id')})\n",
    "    return \n",
    " \n",
    "centroids = getCentroid(samples)\n",
    " \n",
    "samplesWithCentroids= samples.merge(centroids) \n"
   ]
  },
  {
   "cell_type": "code",
   "execution_count": null,
   "metadata": {},
   "outputs": [],
   "source": [
    "task = ee.batch.Export.table.toDrive(collection  = samples,\n",
    "                                     description = 'task_samples',\n",
    "                                     fileFormat  = 'KML',\n",
    "                                     fileNamePrefix = 'missing_samples_'+country_name)\n",
    "task.start()\n",
    "\n",
    "state = task.status()['state']\n",
    "while state in ['READY', 'RUNNING']:\n",
    "    print(state + '...')\n",
    "    time.sleep(15) \n",
    "    state = task.status()['state']\n",
    "print('Done.', task.status())\n",
    "print(task.status()['state'])"
   ]
  },
  {
   "cell_type": "code",
   "execution_count": null,
   "metadata": {},
   "outputs": [],
   "source": []
  }
 ],
 "metadata": {
  "kernelspec": {
   "display_name": "Python 3",
   "language": "python",
   "name": "python3"
  },
  "language_info": {
   "codemirror_mode": {
    "name": "ipython",
    "version": 3
   },
   "file_extension": ".py",
   "mimetype": "text/x-python",
   "name": "python",
   "nbconvert_exporter": "python",
   "pygments_lexer": "ipython3",
   "version": "3.6.7"
  }
 },
 "nbformat": 4,
 "nbformat_minor": 2
}
